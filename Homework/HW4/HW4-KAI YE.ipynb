{
 "cells": [
  {
   "cell_type": "markdown",
   "metadata": {
    "collapsed": true
   },
   "source": [
    "# Problem1"
   ]
  },
  {
   "cell_type": "markdown",
   "metadata": {},
   "source": [
    "##"
   ]
  },
  {
   "cell_type": "code",
   "execution_count": 2,
   "metadata": {},
   "outputs": [
    {
     "name": "stdout",
     "output_type": "stream",
     "text": [
      "min is: 193.5\n",
      "max is: 253.0\n",
      "mean is: 241.6011037\n",
      "variance is: 83.4991711498\n",
      "min is: 152.5\n",
      "max is: 249.0\n",
      "mean is: 227.3765713\n",
      "variance is: 92.625593125\n",
      "min is: 214.25\n",
      "max is: 252.5\n",
      "mean is: 241.5541505\n",
      "variance is: 35.2863398033\n",
      "min is: 152.5\n",
      "max is: 252.5\n",
      "mean is: 232.82676815\n",
      "variance is: 97.6257317486\n",
      "min is: 10.0\n",
      "max is: 31048.0\n",
      "mean is: 3089.923365\n",
      "variance is: 15651513.7564\n",
      "min is: 0.0\n",
      "max is: 13630.0\n",
      "mean is: 928.25902\n",
      "variance is: 3081761.81695\n",
      "min is: 0.0\n",
      "max is: 9238.0\n",
      "mean is: 138.09383\n",
      "variance is: 443951.746446\n",
      "min is: 0.0\n",
      "max is: 125.17\n",
      "mean is: 3.2485793303\n",
      "variance is: 8.21948502491\n",
      "min is: 0.87589\n",
      "max is: 19.167\n",
      "mean is: 6.49865290275\n",
      "variance is: 6.40504819136\n",
      "min is: 0.0\n",
      "max is: 13.23\n",
      "mean is: 2.09713912048\n",
      "variance is: 4.36344047061\n",
      "min is: 0.0\n",
      "max is: 66.761\n",
      "mean is: 4.21766040935\n",
      "variance is: 4.08637188423\n",
      "min is: 0.0\n",
      "max is: 73.902\n",
      "mean is: 2.69171845215\n",
      "variance is: 2.19877847436\n",
      "min is: 0.99049\n",
      "max is: 975.04\n",
      "mean is: 10.2715904759\n",
      "variance is: 404.646245041\n",
      "min is: -999.9\n",
      "max is: 797.2\n",
      "mean is: 5.7814805\n",
      "variance is: 3406.52055098\n"
     ]
    }
   ],
   "source": [
    "import numpy as np\n",
    "import matplotlib.pyplot as plt\n",
    "import mltools as ml\n",
    "X = np.genfromtxt('X_train.txt', delimiter=None)\n",
    "Y = np.genfromtxt('Y_train.txt', delimiter=None)\n",
    "X,Y = ml.shuffleData(X,Y)\n",
    "for i in range(X.shape[1]):\n",
    "    print(\"min is:\", np.min(X[:, i]))\n",
    "    print(\"max is:\", np.max(X[:, i]))\n",
    "    print(\"mean is:\",np.mean(X[:,i]))\n",
    "    print(\"variance is:\",np.var(X[:,i]))"
   ]
  },
  {
   "cell_type": "markdown",
   "metadata": {},
   "source": [
    "##"
   ]
  },
  {
   "cell_type": "code",
   "execution_count": 6,
   "metadata": {},
   "outputs": [
    {
     "name": "stdout",
     "output_type": "stream",
     "text": [
      "XtS's min is: -4.52126957134\n",
      "XtS's max is: 1.25218967078\n",
      "XtS's mean is: 3.18287618484e-15\n",
      "XtS's variance is: 1.0\n",
      "XtS's min is: -3.91860859565\n",
      "XtS's max is: 1.8546250746\n",
      "XtS's mean is: -5.73763259126e-16\n",
      "XtS's variance is: 1.0\n",
      "XtS's min is: -4.44384964661\n",
      "XtS's max is: 1.69854155328\n",
      "XtS's mean is: -5.44957856619e-14\n",
      "XtS's variance is: 1.0\n",
      "XtS's min is: -2.77832525137\n",
      "XtS's max is: 1.89364918514\n",
      "XtS's mean is: -8.21351875402e-14\n",
      "XtS's variance is: 1.0\n",
      "XtS's min is: -0.786772175108\n",
      "XtS's max is: 7.35655916225\n",
      "XtS's mean is: 5.47117906535e-17\n",
      "XtS's variance is: 1.0\n",
      "XtS's min is: -0.532268502963\n",
      "XtS's max is: 7.2964207308\n",
      "XtS's mean is: 3.19744231092e-18\n",
      "XtS's variance is: 1.0\n",
      "XtS's min is: -0.206599234995\n",
      "XtS's max is: 13.6108766848\n",
      "XtS's mean is: -1.84741111298e-17\n",
      "XtS's variance is: 1.0\n",
      "XtS's min is: -1.17945974003\n",
      "XtS's max is: 8.47555116736\n",
      "XtS's mean is: -1.62430069395e-15\n",
      "XtS's variance is: 1.0\n",
      "XtS's min is: -1.93339374679\n",
      "XtS's max is: 4.15006601356\n",
      "XtS's mean is: -2.61053401118e-15\n",
      "XtS's variance is: 1.0\n",
      "XtS's min is: -1.01139144701\n",
      "XtS's max is: 4.32615602159\n",
      "XtS's mean is: -4.44799752586e-16\n",
      "XtS's variance is: 1.0\n",
      "XtS's min is: -2.14730737157\n",
      "XtS's max is: 6.53341798045\n",
      "XtS's mean is: -5.67723645872e-16\n",
      "XtS's variance is: 1.0\n",
      "XtS's min is: -1.9201633731\n",
      "XtS's max is: 13.4098098436\n",
      "XtS's mean is: 1.94191329683e-15\n",
      "XtS's variance is: 1.0\n",
      "XtS's min is: -0.570186724663\n",
      "XtS's max is: 29.9918388489\n",
      "XtS's mean is: 7.07700564817e-16\n",
      "XtS's variance is: 1.0\n",
      "XtS's min is: -18.3287075848\n",
      "XtS's max is: 10.0881593252\n",
      "XtS's mean is: -2.48689957516e-17\n",
      "XtS's variance is: 1.0\n",
      "XvS's min is: -4.73913595784\n",
      "XvS's max is: 1.25218967078\n",
      "XvS's mean is: -0.00814820285492\n",
      "XvS's variance is: 0.997479385864\n",
      "XvS's min is: -7.85490427991\n",
      "XvS's max is: 2.27449661425\n",
      "XvS's mean is: -0.021730241599\n",
      "XvS's variance is: 1.05025649636\n",
      "XvS's min is: -4.49979745495\n",
      "XvS's max is: 1.80535100555\n",
      "XvS's mean is: -0.0176934096165\n",
      "XvS's variance is: 1.03198900703\n",
      "XvS's min is: -8.14962412559\n",
      "XvS's max is: 1.96571309672\n",
      "XvS's mean is: -0.0236245801846\n",
      "XvS's variance is: 1.03716711663\n",
      "XvS's min is: -0.786772175108\n",
      "XvS's max is: 7.35655916225\n",
      "XvS's mean is: 0.0342559393831\n",
      "XvS's variance is: 1.11859965305\n",
      "XvS's min is: -0.532268502963\n",
      "XvS's max is: 7.2964207308\n",
      "XvS's mean is: 0.0125978141381\n",
      "XvS's variance is: 1.05802832739\n",
      "XvS's min is: -0.206599234995\n",
      "XvS's max is: 13.6108766848\n",
      "XvS's mean is: 0.0159494774544\n",
      "XvS's variance is: 1.15618783962\n",
      "XvS's min is: -1.17945974003\n",
      "XvS's max is: 44.8137551815\n",
      "XvS's mean is: 0.0250881350382\n",
      "XvS's variance is: 1.48422650539\n",
      "XvS's min is: -2.13135249299\n",
      "XvS's max is: 4.12419165501\n",
      "XvS's mean is: 0.0204557583377\n",
      "XvS's variance is: 1.03440387751\n",
      "XvS's min is: -1.01139144701\n",
      "XvS's max is: 4.3025917522\n",
      "XvS's mean is: 0.0191620000848\n",
      "XvS's variance is: 1.04672639733\n",
      "XvS's min is: -2.14730737157\n",
      "XvS's max is: 8.2407837827\n",
      "XvS's mean is: -0.00489710986497\n",
      "XvS's variance is: 1.05811164659\n",
      "XvS's min is: -1.9201633731\n",
      "XvS's max is: 19.9096899135\n",
      "XvS's mean is: 0.0114467224141\n",
      "XvS's variance is: 1.08830311216\n",
      "XvS's min is: -0.572422026306\n",
      "XvS's max is: 61.1062245557\n",
      "XvS's mean is: 0.0214423760733\n",
      "XvS's variance is: 2.31203252062\n",
      "XvS's min is: -18.3287075848\n",
      "XvS's max is: 13.0515128993\n",
      "XvS's mean is: -0.0284496513995\n",
      "XvS's variance is: 1.49099410153\n"
     ]
    }
   ],
   "source": [
    "import numpy as np\n",
    "import matplotlib.pyplot as plt\n",
    "import mltools as ml\n",
    "X = np.genfromtxt('X_train.txt', delimiter=None)\n",
    "Y = np.genfromtxt('Y_train.txt', delimiter=None)\n",
    "X,Y = ml.shuffleData(X,Y)\n",
    "Xtr, Xva, Ytr, Yva = ml.splitData(X, Y,0.75)\n",
    "Xt, Yt = Xtr[:5000], Ytr[:5000]\n",
    "Xv, Yv = Xva[:5000], Yva[:5000]\n",
    "XtS, params = ml.transforms.rescale(Xt)\n",
    "XvS, _ = ml.rescale(Xv, params)\n",
    "for i in range(XtS.shape[1]):\n",
    "    print(\"XtS's min is:\", np.min(XtS[:, i]))\n",
    "    print(\"XtS's max is:\", np.max(XtS[:, i]))\n",
    "    print(\"XtS's mean is:\",np.mean(XtS[:,i]))\n",
    "    print(\"XtS's variance is:\",np.var(XtS[:,i]))\n",
    "for i in range(XvS.shape[1]):\n",
    "    print(\"XvS's min is:\", np.min(XvS[:, i]))\n",
    "    print(\"XvS's max is:\", np.max(XvS[:, i]))\n",
    "    print(\"XvS's mean is:\",np.mean(XvS[:,i]))\n",
    "    print(\"XvS's variance is:\",np.var(XvS[:,i]))"
   ]
  },
  {
   "cell_type": "markdown",
   "metadata": {},
   "source": [
    "# Problem2"
   ]
  },
  {
   "cell_type": "markdown",
   "metadata": {},
   "source": [
    "## "
   ]
  },
  {
   "cell_type": "code",
   "execution_count": 17,
   "metadata": {},
   "outputs": [
    {
     "data": {
      "image/png": "[encoded data removed]",
      "text/plain": [
       "<matplotlib.figure.Figure at 0x248b2923470>"
      ]
     },
     "metadata": {},
     "output_type": "display_data"
    }
   ],
   "source": [
    "import numpy as np\n",
    "import matplotlib.pyplot as plt\n",
    "import mltools as ml\n",
    "X = np.genfromtxt('X_train.txt', delimiter=None)\n",
    "Y = np.genfromtxt('Y_train.txt', delimiter=None)\n",
    "X,Y = ml.shuffleData(X,Y)\n",
    "Xtr, Xva, Ytr, Yva = ml.splitData(X, Y,0.75)\n",
    "Xt, Yt = Xtr[:5000], Ytr[:5000]\n",
    "Xv, Yv = Xva[:5000], Yva[:5000]\n",
    "XtS, params = ml.transforms.rescale(Xt)\n",
    "XvS, _ = ml.rescale(Xv, params)\n",
    "regcollection=[0.0,0.5,1.0,1.5,2.0,2.5,3.0,3.5,4.0]\n",
    "auccollection=[]\n",
    "learner = ml.linearC.linearClassify()\n",
    "for x in regcollection:\n",
    "    learner.train(XtS, Yt, x, initStep=0.1, stopTol=1e-6, stopIter=100)\n",
    "    auccollection.append(learner.auc(XtS, Yt))# training AUC   \n",
    "plt.plot(regcollection,auccollection) \n",
    "plt.xlabel('reg')\n",
    "plt.ylabel('TrainingAUC')\n",
    "plt.show()"
   ]
  },
  {
   "cell_type": "code",
   "execution_count": 18,
   "metadata": {},
   "outputs": [
    {
     "data": {
      "image/png": "[encoded data removed]",
      "text/plain": [
       "<matplotlib.figure.Figure at 0x248b24e8e10>"
      ]
     },
     "metadata": {},
     "output_type": "display_data"
    }
   ],
   "source": [
    "import numpy as np\n",
    "import matplotlib.pyplot as plt\n",
    "import mltools as ml\n",
    "X = np.genfromtxt('X_train.txt', delimiter=None)\n",
    "Y = np.genfromtxt('Y_train.txt', delimiter=None)\n",
    "X,Y = ml.shuffleData(X,Y)\n",
    "Xtr, Xva, Ytr, Yva = ml.splitData(X, Y,0.75)\n",
    "Xt, Yt = Xtr[:5000], Ytr[:5000]\n",
    "Xv, Yv = Xva[:5000], Yva[:5000]\n",
    "XtS, params = ml.transforms.rescale(Xt)\n",
    "XvS, _ = ml.rescale(Xv, params)\n",
    "regcollection=[0.0,0.5,1.0,1.5,2.0,2.5,3.0,3.5,4.0]\n",
    "auccollection=[]\n",
    "learner = ml.linearC.linearClassify()\n",
    "for x in regcollection:\n",
    "    learner.train(XtS, Yt, x, initStep=0.1, stopTol=1e-6, stopIter=100)\n",
    "    auccollection.append(learner.auc(XvS, Yv))# validation AUC\n",
    "plt.plot(regcollection,auccollection) \n",
    "plt.xlabel('reg')\n",
    "plt.ylabel('ValidationAUC')\n",
    "plt.show()"
   ]
  },
  {
   "cell_type": "markdown",
   "metadata": {
    "collapsed": true
   },
   "source": [
    "##"
   ]
  },
  {
   "cell_type": "code",
   "execution_count": 12,
   "metadata": {},
   "outputs": [
    {
     "name": "stdout",
     "output_type": "stream",
     "text": [
      "119\n"
     ]
    }
   ],
   "source": [
    "import numpy as np\n",
    "import matplotlib.pyplot as plt\n",
    "import mltools as ml\n",
    "import mltools.transforms as xform\n",
    "X = np.genfromtxt('X_train.txt', delimiter=None)\n",
    "Y = np.genfromtxt('Y_train.txt', delimiter=None)\n",
    "X,Y = ml.shuffleData(X,Y)\n",
    "Xtr, Xva, Ytr, Yva = ml.splitData(X, Y,0.75)\n",
    "Xt, Yt = Xtr[:5000], Ytr[:5000]\n",
    "Xv, Yv = Xva[:5000], Yva[:5000]\n",
    "XtS, params = ml.transforms.rescale(Xt)\n",
    "XvS, _ = ml.rescale(Xv, params)\n",
    "Xt2 = xform.fpoly(XtS,2, bias=False)\n",
    "print (Xt2.shape[1])"
   ]
  },
  {
   "cell_type": "markdown",
   "metadata": {},
   "source": [
    "The number of features is 119 because it consists of 14 original data and 14 x1*x1, x2*x2...x14*x14"
   ]
  },
  {
   "cell_type": "markdown",
   "metadata": {},
   "source": [
    "also other 14*13/2=91 polynomials such as : x1*x2 x2*x3..."
   ]
  },
  {
   "cell_type": "markdown",
   "metadata": {},
   "source": [
    "##"
   ]
  },
  {
   "cell_type": "code",
   "execution_count": 19,
   "metadata": {},
   "outputs": [
    {
     "name": "stderr",
     "output_type": "stream",
     "text": [
      "C:\\Users\\admin\\Desktop\\mltools\\base.py:97: RuntimeWarning: divide by zero encountered in log\n",
      "  return - np.mean( np.log( P[ np.arange(M), Y ] ) ) # evaluate\n"
     ]
    },
    {
     "data": {
      "image/png": "[encoded data removed]",
      "text/plain": [
       "<matplotlib.figure.Figure at 0x248b4aa2f60>"
      ]
     },
     "metadata": {},
     "output_type": "display_data"
    },
    {
     "data": {
      "image/png": "[encoded data removed]",
      "text/plain": [
       "<matplotlib.figure.Figure at 0x248b0130240>"
      ]
     },
     "metadata": {},
     "output_type": "display_data"
    }
   ],
   "source": [
    "import numpy as np\n",
    "import matplotlib.pyplot as plt\n",
    "import mltools as ml\n",
    "import mltools.transforms as xform\n",
    "X = np.genfromtxt('X_train.txt', delimiter=None)\n",
    "Y = np.genfromtxt('Y_train.txt', delimiter=None)\n",
    "X,Y = ml.shuffleData(X,Y)\n",
    "Xtr, Xva, Ytr, Yva = ml.splitData(X, Y,0.75)\n",
    "Xt, Yt = Xtr[:5000], Ytr[:5000]\n",
    "Xv, Yv = Xva[:5000], Yva[:5000]\n",
    "Xt2 = xform.fpoly(Xt,2, bias=False)\n",
    "Xv2 = xform.fpoly(Xv,2, bias=False)\n",
    "\n",
    "Xt2S, params = ml.transforms.rescale(Xt2)\n",
    "Xv2S, _ = ml.rescale(Xv2, params)\n",
    "regcollection=[0.0,0.5,1.0,1.5,2.0,2.5,3.0,3.5,4.0]\n",
    "trainingauccollection=[]\n",
    "validationauccollection=[]\n",
    "learner = ml.linearC.linearClassify()\n",
    "for x in regcollection:\n",
    "    learner.train(Xt2S, Yt, x, initStep=0.1, stopTol=1e-6, stopIter=100)\n",
    "    trainingauccollection.append(learner.auc(Xt2S, Yt))\n",
    "plt.plot(regcollection,trainingauccollection) # training AUC\n",
    "plt.xlabel('reg')\n",
    "plt.ylabel('TrainingAUC')\n",
    "plt.show()\n",
    "for x in regcollection:\n",
    "    learner.train(Xt2S, Yt, x, initStep=0.1, stopTol=1e-6, stopIter=100)\n",
    "    validationauccollection.append(learner.auc(Xv2S, Yt))\n",
    "plt.plot(regcollection,validationauccollection) # validation AUC\n",
    "plt.xlabel('reg')\n",
    "plt.ylabel('ValidationAUC')\n",
    "plt.show()"
   ]
  },
  {
   "cell_type": "markdown",
   "metadata": {},
   "source": [
    "# Problem3"
   ]
  },
  {
   "cell_type": "markdown",
   "metadata": {},
   "source": [
    "##"
   ]
  },
  {
   "cell_type": "code",
   "execution_count": 20,
   "metadata": {},
   "outputs": [
    {
     "data": {
      "image/png": "[encoded data removed]",
      "text/plain": [
       "<matplotlib.figure.Figure at 0x248b5727f60>"
      ]
     },
     "metadata": {},
     "output_type": "display_data"
    },
    {
     "data": {
      "image/png": "[encoded data removed]",
      "text/plain": [
       "<matplotlib.figure.Figure at 0x248b60790b8>"
      ]
     },
     "metadata": {},
     "output_type": "display_data"
    }
   ],
   "source": [
    "import numpy as np\n",
    "import matplotlib.pyplot as plt\n",
    "import mltools as ml\n",
    "import mltools.transforms as xform\n",
    "X = np.genfromtxt('X_train.txt', delimiter=None)\n",
    "Y = np.genfromtxt('Y_train.txt', delimiter=None)\n",
    "kcollection=[1,3,5,7,9,11,13]\n",
    "TrainingAUC=[]\n",
    "ValidationAUC=[]\n",
    "X,Y = ml.shuffleData(X,Y)\n",
    "Xtr, Xva, Ytr, Yva = ml.splitData(X, Y,0.75)\n",
    "Xt, Yt = Xtr[:5000], Ytr[:5000]\n",
    "Xv, Yv = Xva[:5000], Yva[:5000]\n",
    "XtS, params = ml.transforms.rescale(Xt)\n",
    "XvS, _ = ml.rescale(Xv, params)\n",
    "learner = ml.knn.knnClassify()\n",
    "for k in kcollection:\n",
    "    learner.train(XtS, Yt,k, alpha=0.0)\n",
    "    TrainingAUC.append(learner.auc(XtS, Yt)) # train AUC\n",
    "    ValidationAUC.append(learner.auc(XvS,Yv))\n",
    "plt.plot(kcollection,TrainingAUC)\n",
    "plt.xlabel('K values')\n",
    "plt.ylabel('TrainingAUC')\n",
    "plt.show()\n",
    "plt.plot(kcollection,ValidationAUC)\n",
    "plt.xlabel('K values')\n",
    "plt.ylabel('ValidationAUC')\n",
    "plt.show()"
   ]
  },
  {
   "cell_type": "markdown",
   "metadata": {},
   "source": [
    "## "
   ]
  },
  {
   "cell_type": "code",
   "execution_count": 23,
   "metadata": {},
   "outputs": [
    {
     "data": {
      "image/png": "[encoded data removed]",
      "text/plain": [
       "<matplotlib.figure.Figure at 0x248b7c237b8>"
      ]
     },
     "metadata": {},
     "output_type": "display_data"
    },
    {
     "data": {
      "image/png": "[encoded data removed]",
      "text/plain": [
       "<matplotlib.figure.Figure at 0x248a1575c18>"
      ]
     },
     "metadata": {},
     "output_type": "display_data"
    }
   ],
   "source": [
    "import numpy as np\n",
    "import matplotlib.pyplot as plt\n",
    "import mltools as ml\n",
    "import mltools.transforms as xform\n",
    "X = np.genfromtxt('X_train.txt', delimiter=None)\n",
    "Y = np.genfromtxt('Y_train.txt', delimiter=None)\n",
    "kcollection=[1,3,5,7,9,11,13]\n",
    "TrainingAUC=[]\n",
    "ValidationAUC=[]\n",
    "X,Y = ml.shuffleData(X,Y)\n",
    "Xtr, Xva, Ytr, Yva = ml.splitData(X, Y,0.75)\n",
    "Xt, Yt = Xtr[:5000], Ytr[:5000]\n",
    "Xv, Yv = Xva[:5000], Yva[:5000]\n",
    "XtS, params = ml.transforms.rescale(Xt)\n",
    "XvS, _ = ml.rescale(Xv, params)\n",
    "learner = ml.knn.knnClassify()\n",
    "for k in kcollection:\n",
    "    learner.train(Xt, Yt,k, alpha=0.0)\n",
    "    TrainingAUC.append(learner.auc(Xt, Yt)) # train AUC\n",
    "    ValidationAUC.append(learner.auc(Xv,Yv))\n",
    "plt.plot(kcollection,TrainingAUC)\n",
    "plt.xlabel('K values')\n",
    "plt.ylabel('TrainingAUC')\n",
    "plt.show()\n",
    "plt.plot(kcollection,ValidationAUC)\n",
    "plt.xlabel('K values')\n",
    "plt.ylabel('ValidationAUC')\n",
    "plt.show()"
   ]
  },
  {
   "cell_type": "markdown",
   "metadata": {},
   "source": [
    "##"
   ]
  },
  {
   "cell_type": "code",
   "execution_count": 21,
   "metadata": {},
   "outputs": [
    {
     "name": "stderr",
     "output_type": "stream",
     "text": [
      "C:\\Users\\admin\\Desktop\\mltools\\knn.py:103: RuntimeWarning: invalid value encountered in true_divide\n",
      "  prob[i,:] = count / count.sum()    # save (soft) results\n"
     ]
    },
    {
     "data": {
      "image/png": "[encoded data removed]",
      "text/plain": [
       "<matplotlib.figure.Figure at 0x248b6376a90>"
      ]
     },
     "metadata": {},
     "output_type": "display_data"
    },
    {
     "data": {
      "image/png": "[encoded data removed]",
      "text/plain": [
       "<matplotlib.figure.Figure at 0x248a20f64e0>"
      ]
     },
     "metadata": {},
     "output_type": "display_data"
    }
   ],
   "source": [
    "import numpy as np\n",
    "import matplotlib.pyplot as plt\n",
    "import mltools as ml\n",
    "import mltools.transforms as xform\n",
    "X = np.genfromtxt('X_train.txt', delimiter=None)\n",
    "Y = np.genfromtxt('Y_train.txt', delimiter=None)\n",
    "kcollection=[1,3,5,7,9,11,13]\n",
    "TrainingAUC=[]\n",
    "ValidationAUC=[]\n",
    "X,Y = ml.shuffleData(X,Y)\n",
    "Xtr, Xva, Ytr, Yva = ml.splitData(X, Y,0.75)\n",
    "Xt, Yt = Xtr[:5000], Ytr[:5000]\n",
    "Xv, Yv = Xva[:5000], Yva[:5000]\n",
    "XtS, params = ml.transforms.rescale(Xt)\n",
    "XvS, _ = ml.rescale(Xv, params)\n",
    "K = range(1,25,5) # Or something else\n",
    "A = range(0,5,1) # Or something else\n",
    "tr_auc = np.zeros((len(K),len(A)))\n",
    "va_auc = np.zeros((len(K),len(A)))\n",
    "for i,k in enumerate(K):\n",
    "    for j,a in enumerate(A):\n",
    "        learner.train(XtS, Yt,k,a)\n",
    "        tr_auc[i][j] =learner.auc(XtS,Yt) \n",
    "        va_auc[i][j] =learner.auc(XvS,Yv)\n",
    "# Now plot it\n",
    "f, ax = plt.subplots(1, 1, figsize=(8, 5))\n",
    "cax = ax.matshow(tr_auc, interpolation='nearest')\n",
    "f.colorbar(cax)\n",
    "ax.set_xticklabels(['']+list(A))\n",
    "ax.set_yticklabels(['']+list(K))\n",
    "plt.show()\n",
    "\n",
    "ff, axx = plt.subplots(1, 1, figsize=(8, 5))\n",
    "caxx = axx.matshow(va_auc, interpolation='nearest')\n",
    "ff.colorbar(caxx)\n",
    "axx.set_xticklabels(['']+list(A))\n",
    "axx.set_yticklabels(['']+list(K))\n",
    "plt.show()"
   ]
  },
  {
   "cell_type": "code",
   "execution_count": null,
   "metadata": {
    "collapsed": true
   },
   "outputs": [],
   "source": [
    "I would recommand K=21 and alpha=1"
   ]
  },
  {
   "cell_type": "markdown",
   "metadata": {},
   "source": [
    "# Problem4"
   ]
  },
  {
   "cell_type": "markdown",
   "metadata": {
    "collapsed": true
   },
   "source": [
    "##"
   ]
  },
  {
   "cell_type": "code",
   "execution_count": 24,
   "metadata": {},
   "outputs": [
    {
     "data": {
      "image/png": "[encoded data removed]",
      "text/plain": [
       "<matplotlib.figure.Figure at 0x248b6a63f28>"
      ]
     },
     "metadata": {},
     "output_type": "display_data"
    },
    {
     "data": {
      "image/png": "[encoded data removed]",
      "text/plain": [
       "<matplotlib.figure.Figure at 0x248b6077908>"
      ]
     },
     "metadata": {},
     "output_type": "display_data"
    }
   ],
   "source": [
    "import numpy as np\n",
    "import matplotlib.pyplot as plt\n",
    "import mltools as ml\n",
    "X = np.genfromtxt('X_train.txt', delimiter=None)\n",
    "Y = np.genfromtxt('Y_train.txt', delimiter=None)\n",
    "X,Y = ml.shuffleData(X,Y)\n",
    "Xtr, Xva, Ytr, Yva = ml.splitData(X, Y,0.75)\n",
    "Xt, Yt = Xtr[:5000], Ytr[:5000]\n",
    "Xv, Yv = Xva[:5000], Yva[:5000]\n",
    "XtS, params = ml.transforms.rescale(Xt)\n",
    "XvS, _ = ml.rescale(Xv, params)\n",
    "maxdepthcollection=[1,5,10,15,20,25,30]\n",
    "TrainingAUC=[]\n",
    "ValidationAUC=[]\n",
    "for x in maxdepthcollection:\n",
    "    learner = ml.dtree.treeClassify(XtS,Yt,maxDepth=x)\n",
    "    TrainingAUC.append(learner.auc(XtS,Yt))\n",
    "    ValidationAUC.append(learner.auc(XvS,Yv))\n",
    "plt.plot(maxdepthcollection,TrainingAUC)\n",
    "plt.xlabel('maxDepth')\n",
    "plt.ylabel('TrainingAUC')\n",
    "plt.show()\n",
    "plt.plot(maxdepthcollection,ValidationAUC)\n",
    "plt.xlabel('maxDepth')\n",
    "plt.ylabel('ValidationAUC')\n",
    "plt.show()"
   ]
  },
  {
   "cell_type": "markdown",
   "metadata": {},
   "source": [
    "##"
   ]
  },
  {
   "cell_type": "code",
   "execution_count": 25,
   "metadata": {},
   "outputs": [
    {
     "data": {
      "image/png": "[encoded data removed]",
      "text/plain": [
       "<matplotlib.figure.Figure at 0x248a15ef978>"
      ]
     },
     "metadata": {},
     "output_type": "display_data"
    }
   ],
   "source": [
    "import numpy as np\n",
    "import matplotlib.pyplot as plt\n",
    "import mltools as ml\n",
    "import mltools.transforms as xform\n",
    "X = np.genfromtxt('X_train.txt', delimiter=None)\n",
    "Y = np.genfromtxt('Y_train.txt', delimiter=None)\n",
    "X,Y = ml.shuffleData(X,Y)\n",
    "Xtr, Xva, Ytr, Yva = ml.splitData(X, Y,0.75)\n",
    "Xt, Yt = Xtr[:5000], Ytr[:5000]\n",
    "Xv, Yv = Xva[:5000], Yva[:5000]\n",
    "XtS, params = ml.transforms.rescale(Xt)\n",
    "XvS, _ = ml.rescale(Xv, params)\n",
    "maxdepthcollection=[1,5,10,15,20,25,30]\n",
    "nodecollection=[]\n",
    "nodecollection2=[]\n",
    "count=2\n",
    "for x in maxdepthcollection:\n",
    "    learner = ml.dtree.treeClassify(XtS,Yt,maxDepth=x)\n",
    "    nodecollection.append(learner.sz)\n",
    "    learner1=ml.dtree.treeClassify(XtS,Yt,maxDepth=x,minLeaf=count)\n",
    "    nodecollection2.append(learner1.sz)\n",
    "    count=count+1\n",
    "plt.plot(maxdepthcollection,nodecollection)\n",
    "plt.plot(maxdepthcollection,nodecollection2)\n",
    "plt.show()"
   ]
  },
  {
   "cell_type": "markdown",
   "metadata": {},
   "source": [
    "##"
   ]
  },
  {
   "cell_type": "code",
   "execution_count": 27,
   "metadata": {},
   "outputs": [
    {
     "data": {
      "image/png": "[encoded data removed]",
      "text/plain": [
       "<matplotlib.figure.Figure at 0x248b63a9048>"
      ]
     },
     "metadata": {},
     "output_type": "display_data"
    },
    {
     "data": {
      "image/png": "[encoded data removed]",
      "text/plain": [
       "<matplotlib.figure.Figure at 0x248b4cdbe10>"
      ]
     },
     "metadata": {},
     "output_type": "display_data"
    }
   ],
   "source": [
    "import numpy as np\n",
    "import matplotlib.pyplot as plt\n",
    "import mltools as ml\n",
    "import mltools.transforms as xform\n",
    "X = np.genfromtxt('X_train.txt', delimiter=None)\n",
    "Y = np.genfromtxt('Y_train.txt', delimiter=None)\n",
    "X,Y = ml.shuffleData(X,Y)\n",
    "Xtr, Xva, Ytr, Yva = ml.splitData(X, Y,0.75)\n",
    "Xt, Yt = Xtr[:5000], Ytr[:5000]\n",
    "Xv, Yv = Xva[:5000], Yva[:5000]\n",
    "XtS, params = ml.transforms.rescale(Xt)\n",
    "XvS, _ = ml.rescale(Xv, params)\n",
    "\n",
    "Par = range(2,20,2) # Or something else\n",
    "L = range(1,10,1) # Or something else\n",
    "tr_auc = np.zeros((len(Par),len(L)))\n",
    "va_auc = np.zeros((len(Par),len(L)))\n",
    "for i,k in enumerate(Par):\n",
    "    for j,a in enumerate(L):\n",
    "        learner = ml.dtree.treeClassify(XtS, Yt, maxDepth=15,minParent=k,minLeaf=a)\n",
    "        tr_auc[i][j] = learner.auc(XtS,Yt) # train learner using k and a\n",
    "        va_auc[i][j] = learner.auc(XvS,Yv)\n",
    "f, ax = plt.subplots(1, 1, figsize=(8, 5))\n",
    "cax = ax.matshow(tr_auc, interpolation='nearest')\n",
    "f.colorbar(cax)\n",
    "ax.set_xticklabels(['']+list(L))\n",
    "ax.set_yticklabels(['']+list(Par))\n",
    "plt.show()\n",
    "ff, axx = plt.subplots(1, 1, figsize=(8, 5))\n",
    "caxx = axx.matshow(va_auc, interpolation='nearest')\n",
    "ff.colorbar(caxx)\n",
    "axx.set_xticklabels(['']+list(L))\n",
    "axx.set_yticklabels(['']+list(Par))\n",
    "plt.show()"
   ]
  },
  {
   "cell_type": "code",
   "execution_count": null,
   "metadata": {
    "collapsed": true
   },
   "outputs": [],
   "source": [
    "I would recommand minParent=18 and minLeaf=4"
   ]
  },
  {
   "cell_type": "markdown",
   "metadata": {},
   "source": [
    "# Problem5 "
   ]
  },
  {
   "cell_type": "markdown",
   "metadata": {},
   "source": [
    "##"
   ]
  },
  {
   "cell_type": "code",
   "execution_count": 31,
   "metadata": {},
   "outputs": [
    {
     "name": "stdout",
     "output_type": "stream",
     "text": [
      "it 1 : Jsur = 0.4233348660968459, J01 = 0.3326\n",
      "it 2 : Jsur = 0.42126080147075673, J01 = 0.3326\n",
      "it 4 : Jsur = 0.41988859102482273, J01 = 0.3326\n",
      "it 8 : Jsur = 0.4192004229557035, J01 = 0.3326\n",
      "it 16 : Jsur = 0.4194798277034388, J01 = 0.3326\n",
      "it 32 : Jsur = 0.41998947746286175, J01 = 0.3326\n",
      "it 64 : Jsur = 0.420647286054375, J01 = 0.3326\n",
      "it 128 : Jsur = 0.421345850901122, J01 = 0.3326\n",
      "it 256 : Jsur = 0.42178486371340684, J01 = 0.3326\n",
      "it 1 : Jsur = 0.419013941180813, J01 = 0.3326\n",
      "it 2 : Jsur = 0.41549126848415635, J01 = 0.3326\n",
      "it 4 : Jsur = 0.41273294169129665, J01 = 0.3326\n",
      "it 8 : Jsur = 0.41172466498381144, J01 = 0.3326\n",
      "it 16 : Jsur = 0.41355409916758024, J01 = 0.3326\n",
      "it 32 : Jsur = 0.4144123564560883, J01 = 0.3326\n",
      "it 64 : Jsur = 0.4155810092434125, J01 = 0.3326\n",
      "it 128 : Jsur = 0.4166447553521401, J01 = 0.3326\n",
      "it 256 : Jsur = 0.41733046625588394, J01 = 0.3326\n",
      "it 1 : Jsur = 0.42202111265207987, J01 = 0.3326\n",
      "it 2 : Jsur = 0.4152906121618487, J01 = 0.3326\n",
      "it 4 : Jsur = 0.4094528355506526, J01 = 0.3076\n",
      "it 8 : Jsur = 0.4063973458198177, J01 = 0.3006\n",
      "it 16 : Jsur = 0.406087907809274, J01 = 0.3002\n",
      "it 32 : Jsur = 0.407195629606001, J01 = 0.3\n",
      "it 64 : Jsur = 0.4085635959811339, J01 = 0.3012\n",
      "it 128 : Jsur = 0.40929689329589464, J01 = 0.3036\n",
      "it 256 : Jsur = 0.41001476246298235, J01 = 0.3054\n",
      "it 1 : Jsur = 0.4193047457443165, J01 = 0.3326\n",
      "it 2 : Jsur = 0.41241050068280566, J01 = 0.3326\n",
      "it 4 : Jsur = 0.4099215192008522, J01 = 0.3104\n",
      "it 8 : Jsur = 0.40668564429896054, J01 = 0.3008\n",
      "it 16 : Jsur = 0.40364265251882425, J01 = 0.2992\n",
      "it 32 : Jsur = 0.402004342610595, J01 = 0.3012\n",
      "it 64 : Jsur = 0.40108681403496055, J01 = 0.3006\n",
      "it 128 : Jsur = 0.4002600478177367, J01 = 0.2998\n",
      "it 256 : Jsur = 0.3994715928531223, J01 = 0.299\n",
      "it 1 : Jsur = 0.4183289495647681, J01 = 0.3326\n",
      "it 2 : Jsur = 0.41202797646523986, J01 = 0.3328\n",
      "it 4 : Jsur = 0.4081925816294097, J01 = 0.3026\n",
      "it 8 : Jsur = 0.40503882376730604, J01 = 0.2998\n",
      "it 16 : Jsur = 0.4024906495572808, J01 = 0.3008\n",
      "it 32 : Jsur = 0.4006159310804005, J01 = 0.3004\n",
      "it 64 : Jsur = 0.3996057566842036, J01 = 0.2984\n",
      "it 128 : Jsur = 0.3975247297287547, J01 = 0.2944\n",
      "it 256 : Jsur = 0.39416825344450673, J01 = 0.288\n",
      "it 1 : Jsur = 0.42021986989415083, J01 = 0.3326\n",
      "it 2 : Jsur = 0.4121816263400037, J01 = 0.3326\n",
      "it 4 : Jsur = 0.40895518624453137, J01 = 0.3072\n",
      "it 8 : Jsur = 0.40595618512999365, J01 = 0.3006\n",
      "it 16 : Jsur = 0.40342422519694676, J01 = 0.3008\n",
      "it 32 : Jsur = 0.40162270945384926, J01 = 0.2982\n",
      "it 64 : Jsur = 0.3999056723599175, J01 = 0.2992\n",
      "it 128 : Jsur = 0.39756039598232484, J01 = 0.2964\n",
      "it 256 : Jsur = 0.39439356447258195, J01 = 0.2892\n",
      "it 1 : Jsur = 0.419782954845811, J01 = 0.3326\n",
      "it 2 : Jsur = 0.41044987413314266, J01 = 0.3256\n",
      "it 4 : Jsur = 0.40761940315696193, J01 = 0.3046\n",
      "it 8 : Jsur = 0.40557683859284466, J01 = 0.3018\n",
      "it 16 : Jsur = 0.40328771521527623, J01 = 0.3024\n",
      "it 32 : Jsur = 0.4017308126462046, J01 = 0.3018\n",
      "it 64 : Jsur = 0.4005726012042026, J01 = 0.303\n",
      "it 128 : Jsur = 0.39920524522688505, J01 = 0.3008\n",
      "it 256 : Jsur = 0.39530995378196093, J01 = 0.2902\n",
      "it 1 : Jsur = 0.4172058367389939, J01 = 0.3326\n",
      "it 2 : Jsur = 0.4089387375345013, J01 = 0.3114\n",
      "it 4 : Jsur = 0.4056057108647182, J01 = 0.3052\n",
      "it 8 : Jsur = 0.40344682762158646, J01 = 0.3028\n",
      "it 16 : Jsur = 0.4019762073775481, J01 = 0.3032\n",
      "it 32 : Jsur = 0.40106832360808814, J01 = 0.303\n",
      "it 64 : Jsur = 0.4005994255440285, J01 = 0.3004\n",
      "it 128 : Jsur = 0.40025010710532094, J01 = 0.2984\n",
      "it 256 : Jsur = 0.3997671590448177, J01 = 0.3006\n",
      "it 1 : Jsur = 0.4207188464685596, J01 = 0.3326\n",
      "it 2 : Jsur = 0.41163360177396335, J01 = 0.3326\n",
      "it 4 : Jsur = 0.40794540133548673, J01 = 0.3058\n",
      "it 8 : Jsur = 0.405415244271736, J01 = 0.3002\n",
      "it 16 : Jsur = 0.4027630210742024, J01 = 0.3018\n",
      "it 32 : Jsur = 0.4012287573440922, J01 = 0.3006\n",
      "it 64 : Jsur = 0.40003566739506097, J01 = 0.2994\n",
      "it 128 : Jsur = 0.39777070271567183, J01 = 0.2958\n",
      "it 256 : Jsur = 0.3952781845688374, J01 = 0.2914\n",
      "it 1 : Jsur = 0.4448051729668963, J01 = 0.3326\n",
      "it 2 : Jsur = 0.4449934412905066, J01 = 0.3326\n",
      "it 4 : Jsur = 0.44487541361335114, J01 = 0.3326\n",
      "it 8 : Jsur = 0.44431864801961485, J01 = 0.3326\n",
      "it 16 : Jsur = 0.44401377943550197, J01 = 0.3326\n",
      "it 32 : Jsur = 0.4439599463556604, J01 = 0.3326\n",
      "it 64 : Jsur = 0.4439549062994225, J01 = 0.3326\n",
      "it 1 : Jsur = 0.444805172681881, J01 = 0.3326\n",
      "it 2 : Jsur = 0.44499344065696633, J01 = 0.3326\n",
      "it 4 : Jsur = 0.4448754128388311, J01 = 0.3326\n",
      "it 8 : Jsur = 0.44431864696932, J01 = 0.3326\n",
      "it 16 : Jsur = 0.44401377648156976, J01 = 0.3326\n",
      "it 32 : Jsur = 0.44395993958481184, J01 = 0.3326\n",
      "it 64 : Jsur = 0.4439548908367099, J01 = 0.3326\n",
      "it 1 : Jsur = 0.44480517271710723, J01 = 0.3326\n",
      "it 2 : Jsur = 0.44499344080032444, J01 = 0.3326\n",
      "it 4 : Jsur = 0.44487541297658534, J01 = 0.3326\n",
      "it 8 : Jsur = 0.44431864726501136, J01 = 0.3326\n",
      "it 16 : Jsur = 0.4440137773543157, J01 = 0.3326\n",
      "it 32 : Jsur = 0.44395994174809483, J01 = 0.3326\n",
      "it 64 : Jsur = 0.44395489654802184, J01 = 0.3326\n",
      "it 1 : Jsur = 0.4448051719412546, J01 = 0.3326\n",
      "it 2 : Jsur = 0.44499343953384723, J01 = 0.3326\n",
      "it 4 : Jsur = 0.4448754113558445, J01 = 0.3326\n",
      "it 8 : Jsur = 0.444318643958215, J01 = 0.3326\n",
      "it 16 : Jsur = 0.4440137650751875, J01 = 0.3326\n",
      "it 32 : Jsur = 0.4439598965029745, J01 = 0.3326\n",
      "it 64 : Jsur = 0.44395464499436366, J01 = 0.3326\n",
      "it 128 : Jsur = 0.44394423125959775, J01 = 0.3326\n",
      "it 256 : Jsur = 0.403805805797428, J01 = 0.2992\n",
      "it 1 : Jsur = 0.4448051674800585, J01 = 0.3326\n",
      "it 2 : Jsur = 0.444993432528206, J01 = 0.3326\n",
      "it 4 : Jsur = 0.4448754005472486, J01 = 0.3326\n",
      "it 8 : Jsur = 0.4443186200574859, J01 = 0.3326\n",
      "it 16 : Jsur = 0.444013618070697, J01 = 0.3326\n",
      "it 32 : Jsur = 0.44395710065670657, J01 = 0.3326\n",
      "it 64 : Jsur = 0.40506888525893403, J01 = 0.299\n",
      "it 128 : Jsur = 0.4007874640675018, J01 = 0.2956\n",
      "it 256 : Jsur = 0.3943978715525242, J01 = 0.2854\n",
      "it 1 : Jsur = 0.44480515885208716, J01 = 0.3326\n",
      "it 2 : Jsur = 0.4449934140902504, J01 = 0.3326\n",
      "it 4 : Jsur = 0.44487536137765127, J01 = 0.3326\n",
      "it 8 : Jsur = 0.44431841987364096, J01 = 0.3326\n",
      "it 16 : Jsur = 0.44400346666756224, J01 = 0.3326\n",
      "it 32 : Jsur = 0.40484525181339603, J01 = 0.3\n",
      "it 64 : Jsur = 0.4011161221667335, J01 = 0.2978\n",
      "it 128 : Jsur = 0.39601731459846207, J01 = 0.289\n",
      "it 256 : Jsur = 0.3939780638204282, J01 = 0.2876\n",
      "it 1 : Jsur = 0.4448051698092011, J01 = 0.3326\n",
      "it 2 : Jsur = 0.44499343642653266, J01 = 0.3326\n",
      "it 4 : Jsur = 0.4448754067830992, J01 = 0.3326\n",
      "it 8 : Jsur = 0.44431863437921604, J01 = 0.3326\n",
      "it 16 : Jsur = 0.4440137190970601, J01 = 0.3326\n",
      "it 32 : Jsur = 0.44395955760651534, J01 = 0.3326\n",
      "it 64 : Jsur = 0.44390740293032266, J01 = 0.3326\n",
      "it 128 : Jsur = 0.4036865152097365, J01 = 0.2996\n",
      "it 256 : Jsur = 0.3975917218857836, J01 = 0.2926\n",
      "it 1 : Jsur = 0.4448051500029999, J01 = 0.3326\n",
      "it 2 : Jsur = 0.4449933840221318, J01 = 0.3326\n",
      "it 4 : Jsur = 0.4448752604265854, J01 = 0.3326\n",
      "it 8 : Jsur = 0.44431695114493086, J01 = 0.3326\n",
      "it 16 : Jsur = 0.4070848694884558, J01 = 0.3038\n",
      "it 32 : Jsur = 0.40324885356826634, J01 = 0.3\n",
      "it 64 : Jsur = 0.3992371192591672, J01 = 0.297\n",
      "it 128 : Jsur = 0.39447397647916416, J01 = 0.2892\n",
      "it 256 : Jsur = 0.3923499735529565, J01 = 0.2842\n",
      "it 1 : Jsur = 0.44480516905534023, J01 = 0.3326\n",
      "it 2 : Jsur = 0.44499343632581934, J01 = 0.3326\n",
      "it 4 : Jsur = 0.44487540651798263, J01 = 0.3326\n",
      "it 8 : Jsur = 0.444318631588843, J01 = 0.3326\n",
      "it 16 : Jsur = 0.44401369787208916, J01 = 0.3326\n",
      "it 32 : Jsur = 0.4439592497828262, J01 = 0.3326\n",
      "it 64 : Jsur = 0.43697847307766685, J01 = 0.3326\n",
      "it 128 : Jsur = 0.4031881199502575, J01 = 0.3014\n",
      "it 256 : Jsur = 0.3980128754555316, J01 = 0.2914\n",
      "it 1 : Jsur = 0.4448051729208339, J01 = 0.3326\n",
      "it 2 : Jsur = 0.4449934412943254, J01 = 0.3326\n",
      "it 4 : Jsur = 0.44487541360559224, J01 = 0.3326\n",
      "it 8 : Jsur = 0.44431864801883586, J01 = 0.3326\n",
      "it 16 : Jsur = 0.44401377944124043, J01 = 0.3326\n",
      "it 32 : Jsur = 0.44395994635802344, J01 = 0.3326\n",
      "it 64 : Jsur = 0.4439549063012511, J01 = 0.3326\n",
      "it 1 : Jsur = 0.4448051729350663, J01 = 0.3326\n",
      "it 2 : Jsur = 0.4449934413297464, J01 = 0.3326\n",
      "it 4 : Jsur = 0.44487541362373556, J01 = 0.3326\n",
      "it 8 : Jsur = 0.4443186480128457, J01 = 0.3326\n",
      "it 16 : Jsur = 0.4440137794422255, J01 = 0.3326\n",
      "it 32 : Jsur = 0.4439599463582782, J01 = 0.3326\n",
      "it 64 : Jsur = 0.4439549063011398, J01 = 0.3326\n",
      "it 1 : Jsur = 0.4448051727941506, J01 = 0.3326\n"
     ]
    },
    {
     "name": "stdout",
     "output_type": "stream",
     "text": [
      "it 2 : Jsur = 0.4449934412751397, J01 = 0.3326\n",
      "it 4 : Jsur = 0.4448754136130734, J01 = 0.3326\n",
      "it 8 : Jsur = 0.44431864802192067, J01 = 0.3326\n",
      "it 16 : Jsur = 0.4440137794375194, J01 = 0.3326\n",
      "it 32 : Jsur = 0.4439599463571798, J01 = 0.3326\n",
      "it 64 : Jsur = 0.44395490630103085, J01 = 0.3326\n",
      "it 1 : Jsur = 0.44480517293345845, J01 = 0.3326\n",
      "it 2 : Jsur = 0.4449934413605096, J01 = 0.3326\n",
      "it 4 : Jsur = 0.44487541362656885, J01 = 0.3326\n",
      "it 8 : Jsur = 0.44431864800716175, J01 = 0.3326\n",
      "it 16 : Jsur = 0.4440137794486707, J01 = 0.3326\n",
      "it 32 : Jsur = 0.44395994636021535, J01 = 0.3326\n",
      "it 64 : Jsur = 0.44395490630198764, J01 = 0.3326\n",
      "it 1 : Jsur = 0.4448051726823398, J01 = 0.3326\n",
      "it 2 : Jsur = 0.44499344132484314, J01 = 0.3326\n",
      "it 4 : Jsur = 0.4448754136358721, J01 = 0.3326\n",
      "it 8 : Jsur = 0.44431864801299514, J01 = 0.3326\n",
      "it 16 : Jsur = 0.444013779443629, J01 = 0.3326\n",
      "it 32 : Jsur = 0.44395994635920577, J01 = 0.3326\n",
      "it 64 : Jsur = 0.4439549063018909, J01 = 0.3326\n",
      "it 1 : Jsur = 0.44480517265139297, J01 = 0.3326\n",
      "it 2 : Jsur = 0.4449934412803752, J01 = 0.3326\n",
      "it 4 : Jsur = 0.4448754136224673, J01 = 0.3326\n",
      "it 8 : Jsur = 0.4443186480190054, J01 = 0.3326\n",
      "it 16 : Jsur = 0.4440137794376677, J01 = 0.3326\n",
      "it 32 : Jsur = 0.44395994635658337, J01 = 0.3326\n",
      "it 64 : Jsur = 0.44395490630014467, J01 = 0.3326\n",
      "it 1 : Jsur = 0.4448051725671805, J01 = 0.3326\n",
      "it 2 : Jsur = 0.44499344131781016, J01 = 0.3326\n",
      "it 4 : Jsur = 0.44487541363640787, J01 = 0.3326\n",
      "it 8 : Jsur = 0.4443186480109618, J01 = 0.3326\n",
      "it 16 : Jsur = 0.444013779442478, J01 = 0.3326\n",
      "it 32 : Jsur = 0.4439599463575624, J01 = 0.3326\n",
      "it 64 : Jsur = 0.4439549063000031, J01 = 0.3326\n",
      "it 1 : Jsur = 0.4448051727595348, J01 = 0.3326\n",
      "it 2 : Jsur = 0.444993441327803, J01 = 0.3326\n",
      "it 4 : Jsur = 0.44487541361644, J01 = 0.3326\n",
      "it 8 : Jsur = 0.4443186480090304, J01 = 0.3326\n",
      "it 16 : Jsur = 0.44401377944583953, J01 = 0.3326\n",
      "it 32 : Jsur = 0.44395994635759406, J01 = 0.3326\n",
      "it 64 : Jsur = 0.4439549062993352, J01 = 0.3326\n",
      "it 1 : Jsur = 0.4448051727185598, J01 = 0.3326\n",
      "it 2 : Jsur = 0.44499344129104995, J01 = 0.3326\n",
      "it 4 : Jsur = 0.44487541362102184, J01 = 0.3326\n",
      "it 8 : Jsur = 0.44431864801776266, J01 = 0.3326\n",
      "it 16 : Jsur = 0.4440137794390365, J01 = 0.3326\n",
      "it 32 : Jsur = 0.44395994635653335, J01 = 0.3326\n",
      "it 64 : Jsur = 0.4439549062996174, J01 = 0.3326\n",
      "it 1 : Jsur = 0.44480517297570576, J01 = 0.3326\n",
      "it 2 : Jsur = 0.4449934412939476, J01 = 0.3326\n",
      "it 4 : Jsur = 0.4448754136120782, J01 = 0.3326\n",
      "it 8 : Jsur = 0.44431864802023135, J01 = 0.3326\n",
      "it 16 : Jsur = 0.444013779437932, J01 = 0.3326\n",
      "it 32 : Jsur = 0.44395994635736613, J01 = 0.3326\n",
      "it 64 : Jsur = 0.4439549063011374, J01 = 0.3326\n",
      "it 1 : Jsur = 0.44480517296311955, J01 = 0.3326\n",
      "it 2 : Jsur = 0.444993441289542, J01 = 0.3326\n",
      "it 4 : Jsur = 0.44487541360988997, J01 = 0.3326\n",
      "it 8 : Jsur = 0.4443186480209284, J01 = 0.3326\n",
      "it 16 : Jsur = 0.4440137794379888, J01 = 0.3326\n",
      "it 32 : Jsur = 0.4439599463573533, J01 = 0.3326\n",
      "it 64 : Jsur = 0.4439549063011364, J01 = 0.3326\n",
      "it 1 : Jsur = 0.4448051729342648, J01 = 0.3326\n",
      "it 2 : Jsur = 0.44499344130747165, J01 = 0.3326\n",
      "it 4 : Jsur = 0.44487541361807814, J01 = 0.3326\n",
      "it 8 : Jsur = 0.44431864801739396, J01 = 0.3326\n",
      "it 16 : Jsur = 0.44401377943966197, J01 = 0.3326\n",
      "it 32 : Jsur = 0.44395994635776004, J01 = 0.3326\n",
      "it 64 : Jsur = 0.44395490630116763, J01 = 0.3326\n",
      "it 1 : Jsur = 0.44480517245403933, J01 = 0.3326\n",
      "it 2 : Jsur = 0.4449934412605932, J01 = 0.3326\n",
      "it 4 : Jsur = 0.44487541362195654, J01 = 0.3326\n",
      "it 8 : Jsur = 0.44431864802200843, J01 = 0.3326\n",
      "it 16 : Jsur = 0.4440137794389394, J01 = 0.3326\n",
      "it 32 : Jsur = 0.4439599463575476, J01 = 0.3326\n",
      "it 64 : Jsur = 0.44395490630115125, J01 = 0.3326\n",
      "it 1 : Jsur = 0.4448051728325665, J01 = 0.3326\n",
      "it 2 : Jsur = 0.4449934413225541, J01 = 0.3326\n",
      "it 4 : Jsur = 0.444875413624189, J01 = 0.3326\n",
      "it 8 : Jsur = 0.4443186480131879, J01 = 0.3326\n",
      "it 16 : Jsur = 0.4440137794429138, J01 = 0.3326\n",
      "it 32 : Jsur = 0.4439599463584562, J01 = 0.3326\n",
      "it 64 : Jsur = 0.44395490630122003, J01 = 0.3326\n",
      "it 1 : Jsur = 0.4448051727473142, J01 = 0.3326\n",
      "it 2 : Jsur = 0.4449934413493669, J01 = 0.3326\n",
      "it 4 : Jsur = 0.4448754136360888, J01 = 0.3326\n",
      "it 8 : Jsur = 0.44431864800743076, J01 = 0.3326\n",
      "it 16 : Jsur = 0.4440137794463113, J01 = 0.3326\n",
      "it 32 : Jsur = 0.4439599463592442, J01 = 0.3326\n",
      "it 64 : Jsur = 0.4439549063012914, J01 = 0.3326\n",
      "it 1 : Jsur = 0.44480517286675647, J01 = 0.3326\n",
      "it 2 : Jsur = 0.44499344129859236, J01 = 0.3326\n",
      "it 4 : Jsur = 0.44487541361656296, J01 = 0.3326\n",
      "it 8 : Jsur = 0.4443186480184042, J01 = 0.3326\n",
      "it 16 : Jsur = 0.4440137794398249, J01 = 0.3326\n",
      "it 32 : Jsur = 0.44395994635779296, J01 = 0.3326\n",
      "it 64 : Jsur = 0.44395490630120377, J01 = 0.3326\n",
      "it 1 : Jsur = 0.4448051726331296, J01 = 0.3326\n",
      "it 2 : Jsur = 0.444993441341823, J01 = 0.3326\n",
      "it 4 : Jsur = 0.44487541362286576, J01 = 0.3326\n",
      "it 8 : Jsur = 0.4443186480058293, J01 = 0.3326\n",
      "it 16 : Jsur = 0.4440137794512214, J01 = 0.3326\n",
      "it 32 : Jsur = 0.4439599463600902, J01 = 0.3326\n",
      "it 64 : Jsur = 0.44395490630133255, J01 = 0.3326\n",
      "it 1 : Jsur = 0.4448051728850087, J01 = 0.3326\n",
      "it 2 : Jsur = 0.44499344136725666, J01 = 0.3326\n",
      "it 4 : Jsur = 0.4448754136296473, J01 = 0.3326\n",
      "it 8 : Jsur = 0.4443186480046673, J01 = 0.3326\n",
      "it 16 : Jsur = 0.444013779449099, J01 = 0.3326\n",
      "it 32 : Jsur = 0.4439599463597669, J01 = 0.3326\n",
      "it 64 : Jsur = 0.44395490630131734, J01 = 0.3326\n",
      "it 1 : Jsur = 0.44480517290879606, J01 = 0.3326\n",
      "it 2 : Jsur = 0.44499344128839785, J01 = 0.3326\n",
      "it 4 : Jsur = 0.4448754136155355, J01 = 0.3326\n",
      "it 8 : Jsur = 0.4443186480209224, J01 = 0.3326\n",
      "it 16 : Jsur = 0.44401377943713394, J01 = 0.3326\n",
      "it 32 : Jsur = 0.44395994635722125, J01 = 0.3326\n",
      "it 64 : Jsur = 0.44395490630112655, J01 = 0.3326\n",
      "it 1 : Jsur = 0.44480517297400873, J01 = 0.3326\n",
      "it 2 : Jsur = 0.4449934412888184, J01 = 0.3326\n",
      "it 4 : Jsur = 0.4448754136122798, J01 = 0.3326\n",
      "it 8 : Jsur = 0.44431864802150833, J01 = 0.3326\n",
      "it 16 : Jsur = 0.44401377943690323, J01 = 0.3326\n",
      "it 32 : Jsur = 0.44395994635715486, J01 = 0.3326\n",
      "it 64 : Jsur = 0.4439549063011213, J01 = 0.3326\n",
      "it 1 : Jsur = 0.4448051728902534, J01 = 0.3326\n",
      "it 2 : Jsur = 0.44499344130974494, J01 = 0.3326\n",
      "it 4 : Jsur = 0.4448754136254418, J01 = 0.3326\n",
      "it 8 : Jsur = 0.44431864801738685, J01 = 0.3326\n",
      "it 16 : Jsur = 0.44401377943880455, J01 = 0.3326\n",
      "it 32 : Jsur = 0.44395994635763425, J01 = 0.3326\n",
      "it 64 : Jsur = 0.44395490630115864, J01 = 0.3326\n",
      "it 1 : Jsur = 0.4448051727964394, J01 = 0.3326\n",
      "it 2 : Jsur = 0.4449934413183562, J01 = 0.3326\n",
      "it 4 : Jsur = 0.44487541362784194, J01 = 0.3326\n",
      "it 8 : Jsur = 0.44431864801428766, J01 = 0.3326\n",
      "it 16 : Jsur = 0.444013779441648, J01 = 0.3326\n",
      "it 32 : Jsur = 0.44395994635822034, J01 = 0.3326\n",
      "it 64 : Jsur = 0.4439549063012031, J01 = 0.3326\n",
      "it 1 : Jsur = 0.44480517291999294, J01 = 0.3326\n",
      "it 2 : Jsur = 0.44499344128698504, J01 = 0.3326\n",
      "it 4 : Jsur = 0.4448754136107141, J01 = 0.3326\n",
      "it 8 : Jsur = 0.4443186480208361, J01 = 0.3326\n",
      "it 16 : Jsur = 0.44401377943812204, J01 = 0.3326\n",
      "it 32 : Jsur = 0.44395994635738223, J01 = 0.3326\n",
      "it 64 : Jsur = 0.4439549063011384, J01 = 0.3326\n",
      "it 1 : Jsur = 0.4448051726476422, J01 = 0.3326\n",
      "it 2 : Jsur = 0.44499344131864066, J01 = 0.3326\n",
      "it 4 : Jsur = 0.44487541363133987, J01 = 0.3326\n",
      "it 8 : Jsur = 0.44431864801237225, J01 = 0.3326\n",
      "it 16 : Jsur = 0.44401377944366177, J01 = 0.3326\n",
      "it 32 : Jsur = 0.4439599463586363, J01 = 0.3326\n",
      "it 64 : Jsur = 0.44395490630123496, J01 = 0.3326\n",
      "it 1 : Jsur = 0.4448051726485414, J01 = 0.3326\n",
      "it 2 : Jsur = 0.4449934413020781, J01 = 0.3326\n",
      "it 4 : Jsur = 0.44487541362052424, J01 = 0.3326\n",
      "it 8 : Jsur = 0.4443186480152778, J01 = 0.3326\n",
      "it 16 : Jsur = 0.44401377944373327, J01 = 0.3326\n",
      "it 32 : Jsur = 0.443959946358546, J01 = 0.3326\n",
      "it 64 : Jsur = 0.443954906301227, J01 = 0.3326\n",
      "it 1 : Jsur = 0.44480517277482184, J01 = 0.3326\n",
      "it 2 : Jsur = 0.4449934413044778, J01 = 0.3326\n",
      "it 4 : Jsur = 0.4448754136234492, J01 = 0.3326\n",
      "it 8 : Jsur = 0.4443186480166156, J01 = 0.3326\n",
      "it 16 : Jsur = 0.44401377944068443, J01 = 0.3326\n",
      "it 32 : Jsur = 0.44395994635798086, J01 = 0.3326\n",
      "it 64 : Jsur = 0.44395490630118456, J01 = 0.3326\n",
      "it 1 : Jsur = 0.4448051725622321, J01 = 0.3326\n",
      "it 2 : Jsur = 0.44499344127878565, J01 = 0.3326\n",
      "it 4 : Jsur = 0.4448754136216205, J01 = 0.3326\n",
      "it 8 : Jsur = 0.4443186480192485, J01 = 0.3326\n",
      "it 16 : Jsur = 0.44401377944056164, J01 = 0.3326\n"
     ]
    },
    {
     "name": "stdout",
     "output_type": "stream",
     "text": [
      "it 32 : Jsur = 0.44395994635789604, J01 = 0.3326\n",
      "it 64 : Jsur = 0.4439549063011777, J01 = 0.3326\n"
     ]
    },
    {
     "data": {
      "image/png": "[encoded data removed]",
      "text/plain": [
       "<matplotlib.figure.Figure at 0x248b98d9f60>"
      ]
     },
     "metadata": {},
     "output_type": "display_data"
    },
    {
     "data": {
      "image/png": "[encoded data removed]",
      "text/plain": [
       "<matplotlib.figure.Figure at 0x248ae16b860>"
      ]
     },
     "metadata": {},
     "output_type": "display_data"
    }
   ],
   "source": [
    "import numpy as np\n",
    "import matplotlib.pyplot as plt\n",
    "import mltools as ml\n",
    "import mltools.transforms as xform\n",
    "X = np.genfromtxt('X_train.txt', delimiter=None)\n",
    "Y = np.genfromtxt('Y_train.txt', delimiter=None)\n",
    "X,Y = ml.shuffleData(X,Y)\n",
    "Xtr, Xva, Ytr, Yva = ml.splitData(X, Y,0.75)\n",
    "Xt, Yt = Xtr[:5000], Ytr[:5000]\n",
    "Xv, Yv = Xva[:5000], Yva[:5000]\n",
    "XtS, params = ml.transforms.rescale(Xt)\n",
    "XvS, _ = ml.rescale(Xv, params)\n",
    "\n",
    "nn = ml.nnet.nnetClassify()\n",
    "\n",
    "L=range(1,6,1)                \n",
    "Nodes = range(1,10,1) # Or something else\n",
    "tr_auc = np.zeros((len(L),len(Nodes)))\n",
    "va_auc = np.zeros((len(L),len(Nodes)))\n",
    "for j,n in enumerate(Nodes):\n",
    "    nn.init_weights([XtS.shape[1], n,2], 'random', XtS, Yt) # as many layers nodes you want\n",
    "    nn.train(XtS, Yt, stopTol=1e-8, stepsize=.25, stopIter=300)\n",
    "    tr_auc[0][j] = nn.auc(XtS,Yt) # train learner using k and a\n",
    "    va_auc[0][j] = nn.auc(XvS,Yv)\n",
    "for j,n in enumerate(Nodes):\n",
    "    nn.init_weights([XtS.shape[1], n,n,2], 'random', XtS, Yt) # as many layers nodes you want\n",
    "    nn.train(XtS, Yt, stopTol=1e-8, stepsize=.25, stopIter=300)\n",
    "    tr_auc[1][j] = nn.auc(XtS,Yt) # train learner using k and a\n",
    "    va_auc[1][j] = nn.auc(XvS,Yv)\n",
    "for j,n in enumerate(Nodes):\n",
    "    nn.init_weights([XtS.shape[1], n,n,n,2], 'random', XtS, Yt) # as many layers nodes you want\n",
    "    nn.train(XtS, Yt, stopTol=1e-8, stepsize=.25, stopIter=300)\n",
    "    tr_auc[2][j] = nn.auc(XtS,Yt) # train learner using k and a\n",
    "    va_auc[2][j] = nn.auc(XvS,Yv)\n",
    "for j,n in enumerate(Nodes):\n",
    "    nn.init_weights([XtS.shape[1], n,n,n,n,2], 'random', XtS, Yt) # as many layers nodes you want\n",
    "    nn.train(XtS, Yt, stopTol=1e-8, stepsize=.25, stopIter=300)\n",
    "    tr_auc[3][j] = nn.auc(XtS,Yt) # train learner using k and a\n",
    "    va_auc[3][j] = nn.auc(XvS,Yv)\n",
    "for j,n in enumerate(Nodes):\n",
    "    nn.init_weights([XtS.shape[1], n,n,n,n,n,2], 'random', XtS, Yt) # as many layers nodes you want\n",
    "    nn.train(XtS, Yt, stopTol=1e-8, stepsize=.25, stopIter=300)\n",
    "    tr_auc[4][j] = nn.auc(XtS,Yt) \n",
    "    va_auc[4][j] = nn.auc(XvS,Yv)\n",
    "f, ax = plt.subplots(1, 1, figsize=(8, 5))\n",
    "cax = ax.matshow(tr_auc, interpolation='nearest')\n",
    "f.colorbar(cax)\n",
    "ax.set_xticklabels(['']+list(Nodes))\n",
    "ax.set_yticklabels(['']+list(L))\n",
    "ax.set_title('TrainingAUC')\n",
    "plt.show()\n",
    "ff, axx = plt.subplots(1, 1, figsize=(8, 5))\n",
    "caxx = axx.matshow(va_auc, interpolation='nearest')\n",
    "ff.colorbar(caxx)\n",
    "axx.set_xticklabels(['']+list(Nodes))\n",
    "axx.set_yticklabels(['']+list(L))\n",
    "axx.set_title('ValidationAUC')\n",
    "plt.show()"
   ]
  },
  {
   "cell_type": "code",
   "execution_count": null,
   "metadata": {
    "collapsed": true
   },
   "outputs": [],
   "source": [
    "I would recommand number of hidden layers=2 and nodes in each layer=8"
   ]
  },
  {
   "cell_type": "markdown",
   "metadata": {},
   "source": [
    "##"
   ]
  },
  {
   "cell_type": "code",
   "execution_count": 33,
   "metadata": {},
   "outputs": [
    {
     "name": "stdout",
     "output_type": "stream",
     "text": [
      "it 1 : Jsur = 0.447634786733653, J01 = 0.337\n",
      "it 2 : Jsur = 0.44731095050400965, J01 = 0.337\n",
      "it 4 : Jsur = 0.4473099859714809, J01 = 0.337\n",
      "it 8 : Jsur = 0.4471946070460831, J01 = 0.337\n",
      "it 16 : Jsur = 0.4154463436172536, J01 = 0.3162\n",
      "it 32 : Jsur = 0.4128313242527168, J01 = 0.3116\n",
      "it 64 : Jsur = 0.412225914322236, J01 = 0.3106\n",
      "it 128 : Jsur = 0.4120357916805219, J01 = 0.3086\n",
      "it 256 : Jsur = 0.41198342373228025, J01 = 0.3078\n",
      "Custom activation TrianAUC: 0.660180816449\n",
      "Custom activation ValidateAUC: 0.64560973568\n",
      "it 1 : Jsur = 0.4300751793449095, J01 = 0.337\n",
      "it 2 : Jsur = 0.4234401712812418, J01 = 0.337\n",
      "it 4 : Jsur = 0.4254597887545122, J01 = 0.337\n",
      "it 8 : Jsur = 0.426463039024082, J01 = 0.337\n",
      "it 16 : Jsur = 0.4265948359740891, J01 = 0.337\n",
      "it 32 : Jsur = 0.4265814499528768, J01 = 0.337\n",
      "it 64 : Jsur = 0.4267160600035876, J01 = 0.337\n",
      "it 128 : Jsur = 0.42695874536031636, J01 = 0.337\n",
      "it 256 : Jsur = 0.42721318503143557, J01 = 0.337\n",
      "Logistic activation TrianAUC: 0.646914349396\n",
      "Logistic activation ValidateAUC: 0.633410605986\n",
      "it 1 : Jsur = 0.44763472542821764, J01 = 0.337\n",
      "it 2 : Jsur = 0.4473106459257506, J01 = 0.337\n",
      "it 4 : Jsur = 0.44730325952541405, J01 = 0.337\n",
      "it 8 : Jsur = 0.41696818017041104, J01 = 0.319\n",
      "it 16 : Jsur = 0.4139650848324165, J01 = 0.3144\n",
      "it 32 : Jsur = 0.41159729692536184, J01 = 0.3096\n",
      "it 64 : Jsur = 0.40793527268535634, J01 = 0.308\n",
      "it 128 : Jsur = 0.404105903055012, J01 = 0.3064\n",
      "it 256 : Jsur = 0.40087454164889896, J01 = 0.303\n",
      "Htangent activation TrianAUC: 0.687190676316\n",
      "Htangent activation ValidateAUC: 0.66277164255\n"
     ]
    }
   ],
   "source": [
    "import numpy as np\n",
    "import matplotlib.pyplot as plt\n",
    "import mltools as ml\n",
    "import mltools.transforms as xform\n",
    "X = np.genfromtxt('X_train.txt', delimiter=None)\n",
    "Y = np.genfromtxt('Y_train.txt', delimiter=None)\n",
    "X,Y = ml.shuffleData(X,Y)\n",
    "Xtr, Xva, Ytr, Yva = ml.splitData(X, Y,0.75)\n",
    "Xt, Yt = Xtr[:5000], Ytr[:5000]\n",
    "Xv, Yv = Xva[:5000], Yva[:5000]\n",
    "XtS, params = ml.transforms.rescale(Xt)\n",
    "XvS, _ = ml.rescale(Xv, params)\n",
    "\n",
    "nn = ml.nnet.nnetClassify()\n",
    "tr_auc = np.zeros((len(L),len(Nodes)))\n",
    "va_auc = np.zeros((len(L),len(Nodes)))\n",
    "nn.init_weights([XtS.shape[1],8,8,2], 'random', XtS, Yt)\n",
    "sig = lambda z: np.atleast_2d(z)\n",
    "dsig = lambda z: np.atleast_2d(1)\n",
    "nn.setActivation('custom', sig, dsig)\n",
    "nn.train(XtS, Yt, stopTol=1e-8, stepsize=.25, stopIter=300)\n",
    "print(\"Custom activation TrianAUC:\",nn.auc(XtS,Yt))\n",
    "print(\"Custom activation ValidateAUC:\",nn.auc(XvS,Yv))\n",
    "\n",
    "nn = ml.nnet.nnetClassify()\n",
    "nn.init_weights([XtS.shape[1],8,8,2], 'random', XtS, Yt)\n",
    "nn.setActivation('Logistic', sig, dsig)\n",
    "nn.train(XtS, Yt, stopTol=1e-8, stepsize=.25, stopIter=300)\n",
    "print(\"Logistic activation TrianAUC:\",nn.auc(XtS,Yt))\n",
    "print(\"Logistic activation ValidateAUC:\",nn.auc(XvS,Yv))\n",
    "                 \n",
    "nn = ml.nnet.nnetClassify()\n",
    "nn.init_weights([XtS.shape[1],8,8,2], 'random', XtS, Yt)\n",
    "nn.setActivation('Htangent', sig, dsig)\n",
    "nn.train(XtS, Yt, stopTol=1e-8, stepsize=.25, stopIter=300)\n",
    "print(\"Htangent activation TrianAUC:\",nn.auc(XtS,Yt))\n",
    "print(\"Htangent activation ValidateAUC:\",nn.auc(XvS,Yv))             "
   ]
  },
  {
   "cell_type": "markdown",
   "metadata": {},
   "source": [
    "So our custom activation is better than logistic activation, but worse than Htangent."
   ]
  },
  {
   "cell_type": "markdown",
   "metadata": {},
   "source": [
    "# Problem6"
   ]
  },
  {
   "cell_type": "markdown",
   "metadata": {},
   "source": [
    "I prefer linear classifier to others because it will not easily overfit and using gradient descent we can get quite "
   ]
  },
  {
   "cell_type": "markdown",
   "metadata": {},
   "source": [
    "good parameters which gives us accurate predictions. My username is KAI YE, the leaderboard score is 0.54683."
   ]
  },
  {
   "cell_type": "code",
   "execution_count": null,
   "metadata": {
    "collapsed": true
   },
   "outputs": [],
   "source": [
    "learner = ml.linearC.linearClassify()\n",
    "learner.train(XtS, Y, 4, initStep=1e-6, stopTol=1e-6, stopIter=100)"
   ]
  },
  {
   "cell_type": "markdown",
   "metadata": {},
   "source": [
    "# Statement of Collaboration"
   ]
  },
  {
   "cell_type": "markdown",
   "metadata": {},
   "source": [
    "No disscussion with others."
   ]
  }
 ],
 "metadata": {
  "kernelspec": {
   "display_name": "Python 3",
   "language": "python",
   "name": "python3"
  },
  "language_info": {
   "codemirror_mode": {
    "name": "ipython",
    "version": 3
   },
   "file_extension": ".py",
   "mimetype": "text/x-python",
   "name": "python",
   "nbconvert_exporter": "python",
   "pygments_lexer": "ipython3",
   "version": "3.6.2"
  }
 },
 "nbformat": 4,
 "nbformat_minor": 2
}
